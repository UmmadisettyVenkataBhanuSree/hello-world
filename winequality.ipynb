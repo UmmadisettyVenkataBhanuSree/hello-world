{
  "nbformat": 4,
  "nbformat_minor": 0,
  "metadata": {
    "colab": {
      "name": "winequality.ipynb",
      "provenance": [],
      "collapsed_sections": [],
      "authorship_tag": "ABX9TyOqqeVyGCKZyKdGRjtrLBlB",
      "include_colab_link": true
    },
    "kernelspec": {
      "name": "python3",
      "display_name": "Python 3"
    }
  },
  "cells": [
    {
      "cell_type": "markdown",
      "metadata": {
        "id": "view-in-github",
        "colab_type": "text"
      },
      "source": [
        "<a href=\"https://colab.research.google.com/github/UmmadisettyVenkataBhanuSree/hello-world/blob/master/winequality.ipynb\" target=\"_parent\"><img src=\"https://colab.research.google.com/assets/colab-badge.svg\" alt=\"Open In Colab\"/></a>"
      ]
    },
    {
      "cell_type": "code",
      "metadata": {
        "id": "pox2-8ZwBKr1",
        "colab_type": "code",
        "colab": {}
      },
      "source": [
        "import pandas as pd\n",
        "import numpy as np\n"
      ],
      "execution_count": 38,
      "outputs": []
    },
    {
      "cell_type": "code",
      "metadata": {
        "id": "8v9l3gbHCIoC",
        "colab_type": "code",
        "colab": {}
      },
      "source": [
        "df = pd.read_csv('winequality-red.csv')"
      ],
      "execution_count": 150,
      "outputs": []
    },
    {
      "cell_type": "code",
      "metadata": {
        "id": "wltLtb3PDOmR",
        "colab_type": "code",
        "colab": {
          "base_uri": "https://localhost:8080/",
          "height": 470
        },
        "outputId": "c7cffb79-ec9e-47c3-d314-fcc43818dd97"
      },
      "source": [
        "df\n"
      ],
      "execution_count": 151,
      "outputs": [
        {
          "output_type": "execute_result",
          "data": {
            "text/html": [
              "<div>\n",
              "<style scoped>\n",
              "    .dataframe tbody tr th:only-of-type {\n",
              "        vertical-align: middle;\n",
              "    }\n",
              "\n",
              "    .dataframe tbody tr th {\n",
              "        vertical-align: top;\n",
              "    }\n",
              "\n",
              "    .dataframe thead th {\n",
              "        text-align: right;\n",
              "    }\n",
              "</style>\n",
              "<table border=\"1\" class=\"dataframe\">\n",
              "  <thead>\n",
              "    <tr style=\"text-align: right;\">\n",
              "      <th></th>\n",
              "      <th>fixed acidity</th>\n",
              "      <th>volatile acidity</th>\n",
              "      <th>citric acid</th>\n",
              "      <th>residual sugar</th>\n",
              "      <th>chlorides</th>\n",
              "      <th>free sulfur dioxide</th>\n",
              "      <th>total sulfur dioxide</th>\n",
              "      <th>density</th>\n",
              "      <th>pH</th>\n",
              "      <th>sulphates</th>\n",
              "      <th>alcohol</th>\n",
              "      <th>quality</th>\n",
              "    </tr>\n",
              "  </thead>\n",
              "  <tbody>\n",
              "    <tr>\n",
              "      <th>0</th>\n",
              "      <td>7.4</td>\n",
              "      <td>0.700</td>\n",
              "      <td>0.00</td>\n",
              "      <td>1.9</td>\n",
              "      <td>0.076</td>\n",
              "      <td>11.0</td>\n",
              "      <td>34.0</td>\n",
              "      <td>0.99780</td>\n",
              "      <td>3.51</td>\n",
              "      <td>0.56</td>\n",
              "      <td>9.4</td>\n",
              "      <td>5</td>\n",
              "    </tr>\n",
              "    <tr>\n",
              "      <th>1</th>\n",
              "      <td>7.8</td>\n",
              "      <td>0.880</td>\n",
              "      <td>0.00</td>\n",
              "      <td>2.6</td>\n",
              "      <td>0.098</td>\n",
              "      <td>25.0</td>\n",
              "      <td>67.0</td>\n",
              "      <td>0.99680</td>\n",
              "      <td>3.20</td>\n",
              "      <td>0.68</td>\n",
              "      <td>9.8</td>\n",
              "      <td>5</td>\n",
              "    </tr>\n",
              "    <tr>\n",
              "      <th>2</th>\n",
              "      <td>7.8</td>\n",
              "      <td>0.760</td>\n",
              "      <td>0.04</td>\n",
              "      <td>2.3</td>\n",
              "      <td>0.092</td>\n",
              "      <td>15.0</td>\n",
              "      <td>54.0</td>\n",
              "      <td>0.99700</td>\n",
              "      <td>3.26</td>\n",
              "      <td>0.65</td>\n",
              "      <td>9.8</td>\n",
              "      <td>5</td>\n",
              "    </tr>\n",
              "    <tr>\n",
              "      <th>3</th>\n",
              "      <td>11.2</td>\n",
              "      <td>0.280</td>\n",
              "      <td>0.56</td>\n",
              "      <td>1.9</td>\n",
              "      <td>0.075</td>\n",
              "      <td>17.0</td>\n",
              "      <td>60.0</td>\n",
              "      <td>0.99800</td>\n",
              "      <td>3.16</td>\n",
              "      <td>0.58</td>\n",
              "      <td>9.8</td>\n",
              "      <td>6</td>\n",
              "    </tr>\n",
              "    <tr>\n",
              "      <th>4</th>\n",
              "      <td>7.4</td>\n",
              "      <td>0.700</td>\n",
              "      <td>0.00</td>\n",
              "      <td>1.9</td>\n",
              "      <td>0.076</td>\n",
              "      <td>11.0</td>\n",
              "      <td>34.0</td>\n",
              "      <td>0.99780</td>\n",
              "      <td>3.51</td>\n",
              "      <td>0.56</td>\n",
              "      <td>9.4</td>\n",
              "      <td>5</td>\n",
              "    </tr>\n",
              "    <tr>\n",
              "      <th>...</th>\n",
              "      <td>...</td>\n",
              "      <td>...</td>\n",
              "      <td>...</td>\n",
              "      <td>...</td>\n",
              "      <td>...</td>\n",
              "      <td>...</td>\n",
              "      <td>...</td>\n",
              "      <td>...</td>\n",
              "      <td>...</td>\n",
              "      <td>...</td>\n",
              "      <td>...</td>\n",
              "      <td>...</td>\n",
              "    </tr>\n",
              "    <tr>\n",
              "      <th>1594</th>\n",
              "      <td>6.2</td>\n",
              "      <td>0.600</td>\n",
              "      <td>0.08</td>\n",
              "      <td>2.0</td>\n",
              "      <td>0.090</td>\n",
              "      <td>32.0</td>\n",
              "      <td>44.0</td>\n",
              "      <td>0.99490</td>\n",
              "      <td>3.45</td>\n",
              "      <td>0.58</td>\n",
              "      <td>10.5</td>\n",
              "      <td>5</td>\n",
              "    </tr>\n",
              "    <tr>\n",
              "      <th>1595</th>\n",
              "      <td>5.9</td>\n",
              "      <td>0.550</td>\n",
              "      <td>0.10</td>\n",
              "      <td>2.2</td>\n",
              "      <td>0.062</td>\n",
              "      <td>39.0</td>\n",
              "      <td>51.0</td>\n",
              "      <td>0.99512</td>\n",
              "      <td>3.52</td>\n",
              "      <td>0.76</td>\n",
              "      <td>11.2</td>\n",
              "      <td>6</td>\n",
              "    </tr>\n",
              "    <tr>\n",
              "      <th>1596</th>\n",
              "      <td>6.3</td>\n",
              "      <td>0.510</td>\n",
              "      <td>0.13</td>\n",
              "      <td>2.3</td>\n",
              "      <td>0.076</td>\n",
              "      <td>29.0</td>\n",
              "      <td>40.0</td>\n",
              "      <td>0.99574</td>\n",
              "      <td>3.42</td>\n",
              "      <td>0.75</td>\n",
              "      <td>11.0</td>\n",
              "      <td>6</td>\n",
              "    </tr>\n",
              "    <tr>\n",
              "      <th>1597</th>\n",
              "      <td>5.9</td>\n",
              "      <td>0.645</td>\n",
              "      <td>0.12</td>\n",
              "      <td>2.0</td>\n",
              "      <td>0.075</td>\n",
              "      <td>32.0</td>\n",
              "      <td>44.0</td>\n",
              "      <td>0.99547</td>\n",
              "      <td>3.57</td>\n",
              "      <td>0.71</td>\n",
              "      <td>10.2</td>\n",
              "      <td>5</td>\n",
              "    </tr>\n",
              "    <tr>\n",
              "      <th>1598</th>\n",
              "      <td>6.0</td>\n",
              "      <td>0.310</td>\n",
              "      <td>0.47</td>\n",
              "      <td>3.6</td>\n",
              "      <td>0.067</td>\n",
              "      <td>18.0</td>\n",
              "      <td>42.0</td>\n",
              "      <td>0.99549</td>\n",
              "      <td>3.39</td>\n",
              "      <td>0.66</td>\n",
              "      <td>11.0</td>\n",
              "      <td>6</td>\n",
              "    </tr>\n",
              "  </tbody>\n",
              "</table>\n",
              "<p>1599 rows × 12 columns</p>\n",
              "</div>"
            ],
            "text/plain": [
              "      fixed acidity  volatile acidity  citric acid  ...  sulphates  alcohol  quality\n",
              "0               7.4             0.700         0.00  ...       0.56      9.4        5\n",
              "1               7.8             0.880         0.00  ...       0.68      9.8        5\n",
              "2               7.8             0.760         0.04  ...       0.65      9.8        5\n",
              "3              11.2             0.280         0.56  ...       0.58      9.8        6\n",
              "4               7.4             0.700         0.00  ...       0.56      9.4        5\n",
              "...             ...               ...          ...  ...        ...      ...      ...\n",
              "1594            6.2             0.600         0.08  ...       0.58     10.5        5\n",
              "1595            5.9             0.550         0.10  ...       0.76     11.2        6\n",
              "1596            6.3             0.510         0.13  ...       0.75     11.0        6\n",
              "1597            5.9             0.645         0.12  ...       0.71     10.2        5\n",
              "1598            6.0             0.310         0.47  ...       0.66     11.0        6\n",
              "\n",
              "[1599 rows x 12 columns]"
            ]
          },
          "metadata": {
            "tags": []
          },
          "execution_count": 151
        }
      ]
    },
    {
      "cell_type": "code",
      "metadata": {
        "id": "KIP2ZKZlDu74",
        "colab_type": "code",
        "colab": {
          "base_uri": "https://localhost:8080/",
          "height": 35
        },
        "outputId": "17904436-af7b-451d-961a-fdae778d0c31"
      },
      "source": [
        "df.shape"
      ],
      "execution_count": 152,
      "outputs": [
        {
          "output_type": "execute_result",
          "data": {
            "text/plain": [
              "(1599, 12)"
            ]
          },
          "metadata": {
            "tags": []
          },
          "execution_count": 152
        }
      ]
    },
    {
      "cell_type": "code",
      "metadata": {
        "id": "MJPCQBoNDy_7",
        "colab_type": "code",
        "colab": {
          "base_uri": "https://localhost:8080/",
          "height": 347
        },
        "outputId": "27f49c15-e146-4118-a1b7-6d5688af9db8"
      },
      "source": [
        "df.info()"
      ],
      "execution_count": 153,
      "outputs": [
        {
          "output_type": "stream",
          "text": [
            "<class 'pandas.core.frame.DataFrame'>\n",
            "RangeIndex: 1599 entries, 0 to 1598\n",
            "Data columns (total 12 columns):\n",
            " #   Column                Non-Null Count  Dtype  \n",
            "---  ------                --------------  -----  \n",
            " 0   fixed acidity         1599 non-null   float64\n",
            " 1   volatile acidity      1599 non-null   float64\n",
            " 2   citric acid           1599 non-null   float64\n",
            " 3   residual sugar        1599 non-null   float64\n",
            " 4   chlorides             1599 non-null   float64\n",
            " 5   free sulfur dioxide   1599 non-null   float64\n",
            " 6   total sulfur dioxide  1599 non-null   float64\n",
            " 7   density               1599 non-null   float64\n",
            " 8   pH                    1599 non-null   float64\n",
            " 9   sulphates             1599 non-null   float64\n",
            " 10  alcohol               1599 non-null   float64\n",
            " 11  quality               1599 non-null   int64  \n",
            "dtypes: float64(11), int64(1)\n",
            "memory usage: 150.0 KB\n"
          ],
          "name": "stdout"
        }
      ]
    },
    {
      "cell_type": "code",
      "metadata": {
        "id": "oO6yWJCeDZT2",
        "colab_type": "code",
        "colab": {
          "base_uri": "https://localhost:8080/",
          "height": 87
        },
        "outputId": "49555244-ec15-42b7-fbf3-59b05a1697bb"
      },
      "source": [
        "df.columns"
      ],
      "execution_count": 154,
      "outputs": [
        {
          "output_type": "execute_result",
          "data": {
            "text/plain": [
              "Index(['fixed acidity', 'volatile acidity', 'citric acid', 'residual sugar',\n",
              "       'chlorides', 'free sulfur dioxide', 'total sulfur dioxide', 'density',\n",
              "       'pH', 'sulphates', 'alcohol', 'quality'],\n",
              "      dtype='object')"
            ]
          },
          "metadata": {
            "tags": []
          },
          "execution_count": 154
        }
      ]
    },
    {
      "cell_type": "code",
      "metadata": {
        "id": "F7VgvEQFEUN-",
        "colab_type": "code",
        "colab": {}
      },
      "source": [
        "x = df.iloc[:,2:12].values\n",
        "y = df.iloc[:,11].values\n"
      ],
      "execution_count": 173,
      "outputs": []
    },
    {
      "cell_type": "code",
      "metadata": {
        "id": "2Uc6XFOGFZBF",
        "colab_type": "code",
        "colab": {}
      },
      "source": [
        "from sklearn.model_selection import train_test_split\n",
        "x_train,x_test,y_train,y_test = train_test_split(x,y,test_size = 0.3,random_state = 50 )"
      ],
      "execution_count": 174,
      "outputs": []
    },
    {
      "cell_type": "code",
      "metadata": {
        "id": "DAeKvs8AFmST",
        "colab_type": "code",
        "colab": {
          "base_uri": "https://localhost:8080/",
          "height": 35
        },
        "outputId": "ab26df34-5803-47b2-fd57-28125fdaaa00"
      },
      "source": [
        "x_train.shape"
      ],
      "execution_count": 175,
      "outputs": [
        {
          "output_type": "execute_result",
          "data": {
            "text/plain": [
              "(1119, 10)"
            ]
          },
          "metadata": {
            "tags": []
          },
          "execution_count": 175
        }
      ]
    },
    {
      "cell_type": "code",
      "metadata": {
        "id": "fEhX9UOVFoQy",
        "colab_type": "code",
        "colab": {
          "base_uri": "https://localhost:8080/",
          "height": 35
        },
        "outputId": "c685cf67-0ae2-43b0-9b8e-f1273fead147"
      },
      "source": [
        "x_test.shape"
      ],
      "execution_count": 176,
      "outputs": [
        {
          "output_type": "execute_result",
          "data": {
            "text/plain": [
              "(480, 10)"
            ]
          },
          "metadata": {
            "tags": []
          },
          "execution_count": 176
        }
      ]
    },
    {
      "cell_type": "code",
      "metadata": {
        "id": "t6mOR8mhF1rr",
        "colab_type": "code",
        "colab": {}
      },
      "source": [
        "from sklearn.linear_model import LinearRegression\n",
        "model = LinearRegression()\n",
        "model.fit(x_train,y_train)\n",
        "y_pred = model.predict(x_test)\n"
      ],
      "execution_count": 177,
      "outputs": []
    },
    {
      "cell_type": "code",
      "metadata": {
        "id": "txTQempjDoOh",
        "colab_type": "code",
        "colab": {
          "base_uri": "https://localhost:8080/",
          "height": 520
        },
        "outputId": "bd2ba78f-0c62-4285-919d-c4b28e52a852"
      },
      "source": [
        "y_pred"
      ],
      "execution_count": 178,
      "outputs": [
        {
          "output_type": "execute_result",
          "data": {
            "text/plain": [
              "array([7., 5., 6., 5., 7., 7., 5., 5., 5., 5., 5., 5., 6., 6., 6., 5., 5.,\n",
              "       6., 5., 6., 3., 6., 6., 5., 5., 5., 5., 5., 5., 5., 6., 5., 5., 6.,\n",
              "       5., 7., 7., 6., 5., 5., 5., 6., 5., 6., 5., 6., 5., 4., 5., 5., 5.,\n",
              "       7., 6., 5., 5., 5., 5., 5., 6., 6., 5., 5., 5., 8., 5., 5., 7., 5.,\n",
              "       6., 5., 6., 6., 6., 6., 5., 6., 5., 5., 4., 4., 5., 6., 7., 5., 5.,\n",
              "       5., 6., 5., 5., 5., 5., 6., 5., 7., 5., 7., 7., 5., 4., 5., 5., 6.,\n",
              "       7., 6., 5., 5., 6., 6., 5., 5., 5., 5., 6., 6., 6., 5., 4., 5., 6.,\n",
              "       5., 7., 5., 6., 5., 6., 6., 5., 6., 5., 5., 5., 6., 5., 5., 5., 6.,\n",
              "       5., 6., 5., 5., 5., 6., 6., 5., 7., 5., 5., 5., 7., 5., 5., 5., 7.,\n",
              "       5., 6., 5., 5., 5., 5., 5., 5., 6., 6., 5., 7., 6., 7., 7., 6., 6.,\n",
              "       6., 6., 5., 5., 5., 6., 5., 5., 6., 6., 5., 7., 5., 5., 5., 5., 7.,\n",
              "       5., 5., 7., 6., 6., 7., 5., 6., 6., 5., 6., 6., 6., 5., 7., 7., 5.,\n",
              "       7., 6., 5., 6., 5., 6., 5., 6., 6., 5., 8., 6., 5., 6., 6., 4., 7.,\n",
              "       6., 5., 5., 5., 5., 5., 5., 6., 6., 6., 5., 6., 5., 5., 5., 6., 5.,\n",
              "       5., 6., 6., 5., 6., 6., 5., 5., 6., 6., 6., 5., 6., 5., 3., 6., 6.,\n",
              "       3., 6., 5., 5., 6., 5., 5., 6., 6., 5., 5., 5., 5., 5., 5., 5., 6.,\n",
              "       6., 6., 8., 5., 6., 5., 6., 5., 5., 4., 5., 5., 5., 5., 6., 5., 5.,\n",
              "       5., 5., 5., 6., 5., 6., 6., 5., 6., 6., 4., 6., 6., 6., 5., 5., 6.,\n",
              "       7., 5., 6., 6., 7., 5., 7., 5., 6., 5., 5., 6., 5., 6., 7., 6., 6.,\n",
              "       7., 6., 6., 6., 7., 6., 6., 5., 5., 6., 5., 5., 7., 6., 8., 5., 6.,\n",
              "       5., 5., 5., 6., 6., 6., 5., 6., 5., 6., 5., 5., 6., 6., 7., 6., 6.,\n",
              "       6., 6., 5., 6., 5., 5., 4., 5., 5., 5., 5., 5., 5., 5., 6., 6., 5.,\n",
              "       6., 6., 7., 5., 6., 5., 7., 5., 7., 5., 6., 5., 6., 7., 6., 6., 5.,\n",
              "       6., 5., 5., 5., 5., 4., 6., 6., 6., 6., 6., 5., 7., 5., 7., 5., 6.,\n",
              "       5., 6., 6., 5., 5., 5., 7., 7., 5., 6., 5., 5., 5., 6., 5., 7., 6.,\n",
              "       7., 6., 6., 5., 6., 7., 8., 7., 6., 6., 5., 6., 5., 6., 6., 5., 6.,\n",
              "       6., 5., 5., 5., 5., 4., 6., 6., 5., 5., 5., 6., 5., 5., 6., 5., 5.,\n",
              "       7., 5., 5., 6., 6., 7., 5., 5., 7., 6., 6., 5., 6., 7., 4., 6., 5.,\n",
              "       5., 7., 5., 6.])"
            ]
          },
          "metadata": {
            "tags": []
          },
          "execution_count": 178
        }
      ]
    },
    {
      "cell_type": "code",
      "metadata": {
        "id": "LAVoeoX4F6he",
        "colab_type": "code",
        "colab": {
          "base_uri": "https://localhost:8080/",
          "height": 399
        },
        "outputId": "9ec93167-10d9-4c2c-fe4b-ab32b6781bc8"
      },
      "source": [
        "y_test"
      ],
      "execution_count": 179,
      "outputs": [
        {
          "output_type": "execute_result",
          "data": {
            "text/plain": [
              "array([7, 5, 6, 5, 7, 7, 5, 5, 5, 5, 5, 5, 6, 6, 6, 5, 5, 6, 5, 6, 3, 6,\n",
              "       6, 5, 5, 5, 5, 5, 5, 5, 6, 5, 5, 6, 5, 7, 7, 6, 5, 5, 5, 6, 5, 6,\n",
              "       5, 6, 5, 4, 5, 5, 5, 7, 6, 5, 5, 5, 5, 5, 6, 6, 5, 5, 5, 8, 5, 5,\n",
              "       7, 5, 6, 5, 6, 6, 6, 6, 5, 6, 5, 5, 4, 4, 5, 6, 7, 5, 5, 5, 6, 5,\n",
              "       5, 5, 5, 6, 5, 7, 5, 7, 7, 5, 4, 5, 5, 6, 7, 6, 5, 5, 6, 6, 5, 5,\n",
              "       5, 5, 6, 6, 6, 5, 4, 5, 6, 5, 7, 5, 6, 5, 6, 6, 5, 6, 5, 5, 5, 6,\n",
              "       5, 5, 5, 6, 5, 6, 5, 5, 5, 6, 6, 5, 7, 5, 5, 5, 7, 5, 5, 5, 7, 5,\n",
              "       6, 5, 5, 5, 5, 5, 5, 6, 6, 5, 7, 6, 7, 7, 6, 6, 6, 6, 5, 5, 5, 6,\n",
              "       5, 5, 6, 6, 5, 7, 5, 5, 5, 5, 7, 5, 5, 7, 6, 6, 7, 5, 6, 6, 5, 6,\n",
              "       6, 6, 5, 7, 7, 5, 7, 6, 5, 6, 5, 6, 5, 6, 6, 5, 8, 6, 5, 6, 6, 4,\n",
              "       7, 6, 5, 5, 5, 5, 5, 5, 6, 6, 6, 5, 6, 5, 5, 5, 6, 5, 5, 6, 6, 5,\n",
              "       6, 6, 5, 5, 6, 6, 6, 5, 6, 5, 3, 6, 6, 3, 6, 5, 5, 6, 5, 5, 6, 6,\n",
              "       5, 5, 5, 5, 5, 5, 5, 6, 6, 6, 8, 5, 6, 5, 6, 5, 5, 4, 5, 5, 5, 5,\n",
              "       6, 5, 5, 5, 5, 5, 6, 5, 6, 6, 5, 6, 6, 4, 6, 6, 6, 5, 5, 6, 7, 5,\n",
              "       6, 6, 7, 5, 7, 5, 6, 5, 5, 6, 5, 6, 7, 6, 6, 7, 6, 6, 6, 7, 6, 6,\n",
              "       5, 5, 6, 5, 5, 7, 6, 8, 5, 6, 5, 5, 5, 6, 6, 6, 5, 6, 5, 6, 5, 5,\n",
              "       6, 6, 7, 6, 6, 6, 6, 5, 6, 5, 5, 4, 5, 5, 5, 5, 5, 5, 5, 6, 6, 5,\n",
              "       6, 6, 7, 5, 6, 5, 7, 5, 7, 5, 6, 5, 6, 7, 6, 6, 5, 6, 5, 5, 5, 5,\n",
              "       4, 6, 6, 6, 6, 6, 5, 7, 5, 7, 5, 6, 5, 6, 6, 5, 5, 5, 7, 7, 5, 6,\n",
              "       5, 5, 5, 6, 5, 7, 6, 7, 6, 6, 5, 6, 7, 8, 7, 6, 6, 5, 6, 5, 6, 6,\n",
              "       5, 6, 6, 5, 5, 5, 5, 4, 6, 6, 5, 5, 5, 6, 5, 5, 6, 5, 5, 7, 5, 5,\n",
              "       6, 6, 7, 5, 5, 7, 6, 6, 5, 6, 7, 4, 6, 5, 5, 7, 5, 6])"
            ]
          },
          "metadata": {
            "tags": []
          },
          "execution_count": 179
        }
      ]
    },
    {
      "cell_type": "code",
      "metadata": {
        "id": "8_EvhDneF_Kp",
        "colab_type": "code",
        "colab": {
          "base_uri": "https://localhost:8080/",
          "height": 35
        },
        "outputId": "7ce1fc88-bb2d-4f6e-eca9-2842bcaa77a6"
      },
      "source": [
        "from sklearn import metrics\n",
        "metrics.mean_absolute_error(y_test,y_pred)"
      ],
      "execution_count": 180,
      "outputs": [
        {
          "output_type": "execute_result",
          "data": {
            "text/plain": [
              "3.2807090377673377e-15"
            ]
          },
          "metadata": {
            "tags": []
          },
          "execution_count": 180
        }
      ]
    },
    {
      "cell_type": "code",
      "metadata": {
        "id": "6EftlzeLGFJZ",
        "colab_type": "code",
        "colab": {
          "base_uri": "https://localhost:8080/",
          "height": 35
        },
        "outputId": "f9a53e6c-189b-4635-ab51-2cca06b6098a"
      },
      "source": [
        "metrics.r2_score(y_test,y_pred)"
      ],
      "execution_count": 181,
      "outputs": [
        {
          "output_type": "execute_result",
          "data": {
            "text/plain": [
              "1.0"
            ]
          },
          "metadata": {
            "tags": []
          },
          "execution_count": 181
        }
      ]
    }
  ]
}